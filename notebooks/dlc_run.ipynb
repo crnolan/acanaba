{
 "cells": [
  {
   "cell_type": "markdown",
   "id": "5ac813a3",
   "metadata": {},
   "source": [
    "# DeepLabCut run script\n",
    "\n",
    "This is an overview of DLC commands...\n",
    "\n",
    "Open up the [DLC user guide](https://deeplabcut.github.io/DeepLabCut/docs/standardDeepLabCut_UserGuide.html) for a detailed description of the commands and their use.\n",
    "\n",
    "\n"
   ]
  },
  {
   "cell_type": "code",
   "execution_count": null,
   "id": "8df120c8",
   "metadata": {},
   "outputs": [],
   "source": [
    "import deeplabcut as dlc"
   ]
  },
  {
   "cell_type": "markdown",
   "id": "73781abb",
   "metadata": {},
   "source": [
    "# Create a new project\n",
    "\n",
    "Create a new dlc project directory. Specify project name, experimenter name, full video paths (must be r'full_path'), working directory. \n",
    "\n",
    "Set _copy_videos_ to False to move from working directory into the project directory.\n"
   ]
  },
  {
   "cell_type": "code",
   "execution_count": null,
   "id": "1c1c7e5e",
   "metadata": {},
   "outputs": [],
   "source": [
    "dlc.create_new_project('dlc_acan_0','tjb',[r'C:\\Users\\acan-admin\\dlc_acan\\box1-221023_160918-crop.mp4',r'C:\\Users\\acan-admin\\dlc_acan\\box1-221023_165438-crop.mp4',r'C:\\Users\\acan-admin\\dlc_acan\\box1-221023_174932-crop.mp4',r'C:\\Users\\acan-admin\\dlc_acan\\box2-221023_160918-crop.mp4',r'C:\\Users\\acan-admin\\dlc_acan\\box2-221023_165438-crop.mp4',r'C:\\Users\\acan-admin\\dlc_acan\\box2-221023_174932-crop.mp4',r'C:\\Users\\acan-admin\\dlc_acan\\box3-221023_165441-crop.mp4',r'C:\\Users\\acan-admin\\dlc_acan\\box3-221023_174934-crop.mp4',r'C:\\Users\\acan-admin\\dlc_acan\\box4-221023_165441-crop.mp4',r'C:\\Users\\acan-admin\\dlc_acan\\box4-221023_174934-crop.mp4',r'C:\\Users\\acan-admin\\dlc_acan\\box1-221023_185318-crop.mp4',r'C:\\Users\\acan-admin\\dlc_acan\\box3-221023_185321-crop.mp4',r'C:\\Users\\acan-admin\\dlc_acan\\box2-221023_185318-crop.mp4',r'C:\\Users\\acan-admin\\dlc_acan\\box4-221023_185321-crop.mp4'], working_directory=r'C:\\Users\\acan-admin\\dlc_acan', copy_videos=False, multianimal=False)"
   ]
  },
  {
   "cell_type": "markdown",
   "id": "2b795a0b",
   "metadata": {},
   "source": [
    "# Browse your new project file\n",
    "\n",
    "Open up your _config.yaml_ file.\n",
    "\n",
    "Specify the body parts of interest (e.g. nose. leftEar, rightEar, tail).\n",
    "\n",
    "Set _dotsize_ to a small value (2-5)\n",
    "\n",
    "Set _numframes2pick_ to 15\n",
    "\n",
    "Create _config_path_ variable to hold the path to the config file"
   ]
  },
  {
   "cell_type": "code",
   "execution_count": null,
   "id": "a03dd001",
   "metadata": {},
   "outputs": [],
   "source": [
    "config_path=r'C:\\Users\\acan-admin\\dlc_acan\\dlc_acan_master-tjb-2022-10-23\\config.yaml'"
   ]
  },
  {
   "cell_type": "markdown",
   "id": "8a82728b",
   "metadata": {},
   "source": [
    "# Creating the training dataset: extract, label, split\n",
    "\n",
    "_extract_frames_: create a set of representative images that are taken from each video file. \n",
    "\n",
    "_label_frames_: manually label the visible body parts of interest for each image with the mouse in different positions.\n",
    "\n",
    "This is the dataset on which the network will be trained and tested!\n",
    "\n",
    "_create_training_datset_: split your labelled data into train and test sets. \n",
    "\n",
    "Try to prioritise consistency with you're labelling.\n",
    "\n",
    "Remember to save after you have finished labelling the frames for one video."
   ]
  },
  {
   "cell_type": "code",
   "execution_count": null,
   "id": "452b379d",
   "metadata": {},
   "outputs": [],
   "source": [
    "dlc.extract_frames(config_path, mode='automatic', algo='kmeans', userfeedback=False, crop=False)"
   ]
  },
  {
   "cell_type": "code",
   "execution_count": null,
   "id": "77c836c7",
   "metadata": {},
   "outputs": [],
   "source": [
    "dlc.label_frames(config_path)"
   ]
  },
  {
   "cell_type": "code",
   "execution_count": null,
   "id": "3775892e",
   "metadata": {},
   "outputs": [],
   "source": [
    "dlc.check_labels(config_path)"
   ]
  },
  {
   "cell_type": "code",
   "execution_count": null,
   "id": "54d908ec",
   "metadata": {},
   "outputs": [],
   "source": [
    "dlc.create_training_dataset"
   ]
  },
  {
   "cell_type": "markdown",
   "id": "952225f9",
   "metadata": {},
   "source": [
    "# Train the network\n",
    "\n",
    "The network needs to be trained until the loss plateaus, requiring 500-1000K iterations. This realistically requires a good GPU - or even better, HPCs.\n",
    "\n",
    "For this workshop, train for 5k iterations and display every 500 so you can get a feel for how long this process would take to achieve a suitably trained network.\n",
    "\n",
    "We have a fully trained network pre-prepared for subsequent steps in the process."
   ]
  },
  {
   "cell_type": "code",
   "execution_count": null,
   "id": "27b8cf15",
   "metadata": {},
   "outputs": [],
   "source": [
    "dlc.train_network(config_path,shuffle=1,trainingsetindex=0,gputouse=None,max_snapshots_to_keep=5,displayiters=10000,saveiters=10000,maxiters=1000000) "
   ]
  },
  {
   "cell_type": "markdown",
   "id": "bd4319a6",
   "metadata": {},
   "source": [
    "# Evaluate the network\n",
    "\n",
    "Assess the performance of the network you have trained for a few thousand iterations. By including the _plotting=True_ command, you can overlay the models predictions on your manually labelled images. How does it do?\n",
    "\n",
    "If you enter the directory with the fully trained network, how does the performance of this network look?"
   ]
  },
  {
   "cell_type": "code",
   "execution_count": null,
   "id": "63f79500",
   "metadata": {},
   "outputs": [],
   "source": [
    "dlc.evaluate_network(config_path,Shuffles=[1], plotting=True)"
   ]
  },
  {
   "cell_type": "markdown",
   "id": "0fa0248e",
   "metadata": {},
   "source": [
    "# Analyse your videos\n",
    "\n",
    "Use the trained network to infer the position of the body parts of interest on each frame of your video\n"
   ]
  },
  {
   "cell_type": "code",
   "execution_count": null,
   "id": "89872cdd",
   "metadata": {},
   "outputs": [],
   "source": [
    "dlc.analyze_videos(config_path, [r'C:\\Users\\acan-admin\\dlc_acan\\box1-221023_160918-crop.mp4'], save_as_csv=True)"
   ]
  },
  {
   "cell_type": "code",
   "execution_count": null,
   "id": "5567209c",
   "metadata": {},
   "outputs": [],
   "source": [
    "dlc.filterpredictions(config_path, ['fullpath/analysis/project/videos/reachingvideo1.avi'])"
   ]
  },
  {
   "cell_type": "code",
   "execution_count": null,
   "id": "5e1d0007",
   "metadata": {},
   "outputs": [],
   "source": [
    "dlc.plot_trajectories(config_path, [‘C:\\Users\\acan-admin\\dlc_acan\\box1-221023_160918-crop.mp4'])"
   ]
  },
  {
   "cell_type": "code",
   "execution_count": null,
   "id": "35570266",
   "metadata": {},
   "outputs": [],
   "source": [
    "dlc.create_labeled_video(config_path,[‘C:\\Users\\acan-admin\\dlc_acan\\box1-221023_160918-crop.mp4'])"
   ]
  }
 ],
 "metadata": {
  "kernelspec": {
   "display_name": "Python 3 (ipykernel)",
   "language": "python",
   "name": "python3"
  },
  "language_info": {
   "codemirror_mode": {
    "name": "ipython",
    "version": 3
   },
   "file_extension": ".py",
   "mimetype": "text/x-python",
   "name": "python",
   "nbconvert_exporter": "python",
   "pygments_lexer": "ipython3",
   "version": "3.10.6"
  }
 },
 "nbformat": 4,
 "nbformat_minor": 5
}
